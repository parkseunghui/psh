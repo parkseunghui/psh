{
  "metadata": {
    "kernelspec": {
      "name": "python",
      "display_name": "Python (Pyodide)",
      "language": "python"
    },
    "language_info": {
      "codemirror_mode": {
        "name": "python",
        "version": 3
      },
      "file_extension": ".py",
      "mimetype": "text/x-python",
      "name": "python",
      "nbconvert_exporter": "python",
      "pygments_lexer": "ipython3",
      "version": "3.8"
    }
  },
  "nbformat_minor": 5,
  "nbformat": 4,
  "cells": [
    {
      "id": "b7924917-3a0e-4490-b7f7-4c1ec98f5c61",
      "cell_type": "code",
      "source": "#10.1\nresult1 = (123).__add__(334)\nresult2 = (123).__sub__(334)\nresult3 = (123).__mul__(334)\nresult4 = (123).__truediv__(3)\nprint(result1)\nprint(result2)\nprint(result3)\nprint(result4)",
      "metadata": {
        "trusted": true
      },
      "outputs": [
        {
          "name": "stdout",
          "output_type": "stream",
          "text": "457\n-211\n41082\n41.0\n"
        }
      ],
      "execution_count": 1
    },
    {
      "id": "f7b9d9e2-77bb-4d12-a9fa-ebf0571cea37",
      "cell_type": "code",
      "source": "#10.3\ns='Hello World~'\nprint(s.upper())\n#upper()만 사용가능",
      "metadata": {
        "trusted": true
      },
      "outputs": [
        {
          "name": "stdout",
          "output_type": "stream",
          "text": "HELLO WORLD~\n"
        }
      ],
      "execution_count": 7
    },
    {
      "id": "cc695d6e-8075-42a6-a34b-84fc193a1877",
      "cell_type": "code",
      "source": "#10.5\na = 1\nb = 1\nc = 2\nd = 3\ne = 3\n\nlst = [a, b, c, d, e]\n\nfor i in range(1, 11):\n    count = 0\n    for x in lst:\n        if x is i:\n            count += 1\n    print(f\"{i} : {count}개\")",
      "metadata": {
        "trusted": true
      },
      "outputs": [
        {
          "name": "stdout",
          "output_type": "stream",
          "text": "1 : 2개\n2 : 1개\n3 : 2개\n4 : 0개\n5 : 0개\n6 : 0개\n7 : 0개\n8 : 0개\n9 : 0개\n10 : 0개\n"
        }
      ],
      "execution_count": 8
    },
    {
      "id": "16493fd0-8809-4124-8690-a8e21c2b681b",
      "cell_type": "code",
      "source": "#10.7\nclass Dog:\n    def __init__(self, name, age):\n        self.name = name\n        self.age = age\n\n    def __str__(self):\n        return f\"이름은 {self.name}이고 나이는 {self.age}살입니다.\"\n\nmy_dog = Dog(\"Mango\", 3)\nprint(my_dog)",
      "metadata": {
        "trusted": true
      },
      "outputs": [
        {
          "name": "stdout",
          "output_type": "stream",
          "text": "이름은 Mango이고 나이는 3살입니다.\n"
        }
      ],
      "execution_count": 9
    },
    {
      "id": "c09a7993-9d8c-4946-b11b-064837b7a728",
      "cell_type": "code",
      "source": "#10.9\nclass Counter:\n    def __init__(self, number):\n        self.number = number\n\n    def __add__(self, other):\n        result = self.number + other.number\n        if result > 100:\n            result = 0\n        return Counter(result)\n\n    def __sub__(self, other):\n        result = self.number - other.number\n        if result < -1:\n            result = 0\n        return Counter(result)\n\n    def __str__(self):\n        return f\"C({self.number})\"\n\nc1 = Counter(10)\nc2 = Counter(20)\nc3 = c1 + c2\nc4 = c1 - c2\nprint(\"c3 =\", c3)\nprint(\"c4 =\", c4) ",
      "metadata": {
        "trusted": true
      },
      "outputs": [
        {
          "name": "stdout",
          "output_type": "stream",
          "text": "c3 = C(30)\nc4 = C(0)\n"
        }
      ],
      "execution_count": 10
    },
    {
      "id": "2b0a87c5-d1fd-4be3-814c-a416826dd7c6",
      "cell_type": "code",
      "source": "#10.11\nclass Student:\n    def __init__(self, name, student_id):\n        self.name = name\n        self.student_id = student_id\n        self.korean = 0\n        self.math = 0\n        self.science = 0\n\n    def __str__(self):\n        return (f'학생의 이름 : {self.name}\\n'\n                f'학생의 학번 : {self.student_id}\\n'\n                f'학생의 국어 점수 : {self.korean}\\n'\n                f'학생의 수학 점수 : {self.math}\\n'\n                f'학생의 과학 점수 : {self.science}\\n'\n                f'총 점 : {self.get_total_score()}\\n'\n                f'평 균 : {self.get_avg_score():.1f}')\n\n    def get_name(self):\n        return self.name\n\n    def get_student_id(self):\n        return self.student_id\n\n    def get_korean(self):\n        return self.korean\n\n    def get_math(self):\n        return self.math\n\n    def get_science(self):\n        return self.science\n\n    def set_korean_quiz(self, score):\n        self.korean = score\n\n    def set_math_quiz(self, score):\n        self.math = score\n\n    def set_science_quiz(self, score):\n        self.science = score\n\n    def get_total_score(self):\n        return self.korean + self.math + self.science\n\n    def get_avg_score(self):\n        return self.get_total_score() / 3\n\nname = input(\"학생의 이름을 입력하세요 : \")\nstudent_id = input(\"학생의 학번을 입력하세요 : \")\nstudent = Student(name, student_id)\n\nkorean_quiz = int(input(\"학생의 국어 점수를 입력하세요 : \"))\nmath_quiz = int(input(\"학생의 수학 점수를 입력하세요 : \"))\nscience_quiz = int(input(\"학생의 과학 점수를 입력하세요 : \"))\n\nstudent.set_korean_quiz(korean_quiz)\nstudent.set_math_quiz(math_quiz)\nstudent.set_science_quiz(science_quiz)\n\nprint(student)",
      "metadata": {
        "trusted": true
      },
      "outputs": [],
      "execution_count": null
    },
    {
      "id": "d7207041-4cbd-48fc-8720-9930d43bd07f",
      "cell_type": "code",
      "source": "#10.13\nclass Rectangle:\n    def __init__(self, x, y, width, height):\n        self.x = x\n        self.y = y\n        self.width = width\n        self.height = height\n\n    def __str__(self):\n        return f'({self.x}, {self.y}, {self.width}, {self.height})'\n\n    def area(self):\n        return self.width * self.height\n\n    def overlaps(self, r):\n        return not (self.x + self.width <= r.x or\n                    r.x + r.width <= self.x or\n                    self.y + self.height <= r.y or\n                    r.y + r.height <= self.y)\n\n    def contains(self, r):\n        return (self.x <= r.x and\n                self.y <= r.y and\n                self.x + self.width >= r.x + r.width and\n                self.y + self.height >= r.y + r.height)\n\nr1 = Rectangle(0, 0, 100, 100)\nr2 = Rectangle(80, 80, 100, 100)\nr3 = Rectangle(200, 200, 10, 10)\n\nprint(\"r1 =\", r1)\nprint(\"r2 =\", r2)\nprint(\"r3 =\", r3)\nprint(\"r1의 면적 :\", r1.area())\nprint(\"r2의 면적 :\", r2.area())\nprint(\"r3의 면적 :\", r3.area())\nprint(\"r1이 r2를 포함하는가? :\", r1.contains(r2))\nprint(\"r1이 r3를 포함하는가? :\", r1.contains(r3))\nprint(\"r1과 r2가 겹치는가? :\", r1.overlaps(r2))\nprint(\"r1과 r3가 겹치는가? :\", r1.overlaps(r3))",
      "metadata": {
        "trusted": true
      },
      "outputs": [
        {
          "name": "stdout",
          "output_type": "stream",
          "text": "r1 = (0, 0, 100, 100)\nr2 = (80, 80, 100, 100)\nr3 = (200, 200, 10, 10)\nr1의 면적 : 10000\nr2의 면적 : 10000\nr3의 면적 : 100\nr1이 r2를 포함하는가? : False\nr1이 r3를 포함하는가? : False\nr1과 r2가 겹치는가? : True\nr1과 r3가 겹치는가? : False\n"
        }
      ],
      "execution_count": 11
    },
    {
      "id": "d1f1afa8-3dbd-4951-a710-0601fe21b56f",
      "cell_type": "code",
      "source": "",
      "metadata": {
        "trusted": true
      },
      "outputs": [],
      "execution_count": null
    }
  ]
}