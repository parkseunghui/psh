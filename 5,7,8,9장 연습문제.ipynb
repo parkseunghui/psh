{
  "metadata": {
    "kernelspec": {
      "name": "python",
      "display_name": "Python (Pyodide)",
      "language": "python"
    },
    "language_info": {
      "codemirror_mode": {
        "name": "python",
        "version": 3
      },
      "file_extension": ".py",
      "mimetype": "text/x-python",
      "name": "python",
      "nbconvert_exporter": "python",
      "pygments_lexer": "ipython3",
      "version": "3.8"
    }
  },
  "nbformat_minor": 5,
  "nbformat": 4,
  "cells": [
    {
      "id": "6272bd90-ab0d-48b1-a1ef-eeef6da6a1e9",
      "cell_type": "code",
      "source": "#5.1\ndef my_greet():\n    print('환영합니다.')\n    \nmy_greet()\nmy_greet()",
      "metadata": {
        "trusted": true
      },
      "outputs": [
        {
          "name": "stdout",
          "output_type": "stream",
          "text": "환영합니다.\n환영합니다.\n"
        }
      ],
      "execution_count": 1
    },
    {
      "id": "77d1ac2f-ee3c-467c-a6c7-eb0a15c0bbd2",
      "cell_type": "code",
      "source": "#5.5\ndef inch2cm(inch):\n    return inch*2.54\nfor i in range(1,6):\n    cm = inch2cm(i)\n    print(\"{} 인치 = {} 센티미터\".format(i,cm))",
      "metadata": {
        "trusted": true
      },
      "outputs": [
        {
          "name": "stdout",
          "output_type": "stream",
          "text": "1 인치 = 2.54 센티미터\n2 인치 = 5.08 센티미터\n3 인치 = 7.62 센티미터\n4 인치 = 10.16 센티미터\n5 인치 = 12.7 센티미터\n"
        }
      ],
      "execution_count": 6
    },
    {
      "id": "facdcf25-60e1-41dd-93d5-bd0636d938a9",
      "cell_type": "code",
      "source": "#5.9\ndef mean_of_n(nums):\n    return sum(nums) / len(nums)\n\ndef max_of_n(nums):\n    max_val = num[0]\n    for num in nums:\n        if num > max_val:\n            max_val = num\n    return max_vla\n\ndef min_of_n(nums):\n    min_val = nums[0]\n    for num in nums:\n        if num < min_val:\n            min_val = num\n    return min_val\n\nnums = list(map(int, input(\"정수 여러 개 입력하세요: \").split()))\n\nprint(\"평균값은 {:.1f}\".format(mean_of_n(nums)))\nprint(\"최댓값은 {}\".format(max_of_n(nums)))\nprint(\"최솟값은 {}\".format(min_of_n(nums)))",
      "metadata": {
        "trusted": true
      },
      "outputs": [
        {
          "ename": "<class 'AttributeError'>",
          "evalue": "'PyodideFuture' object has no attribute 'split'",
          "traceback": [
            "\u001b[0;31m---------------------------------------------------------------------------\u001b[0m",
            "\u001b[0;31mAttributeError\u001b[0m                            Traceback (most recent call last)",
            "Cell \u001b[0;32mIn[7], line 19\u001b[0m\n\u001b[1;32m     16\u001b[0m             min_val \u001b[38;5;241m=\u001b[39m num\n\u001b[1;32m     17\u001b[0m     \u001b[38;5;28;01mreturn\u001b[39;00m min_val\n\u001b[0;32m---> 19\u001b[0m nums \u001b[38;5;241m=\u001b[39m \u001b[38;5;28mlist\u001b[39m(\u001b[38;5;28mmap\u001b[39m(\u001b[38;5;28mint\u001b[39m, \u001b[38;5;28;43minput\u001b[39;49m\u001b[43m(\u001b[49m\u001b[38;5;124;43m\"\u001b[39;49m\u001b[38;5;124;43m정수 여러 개 입력하세요: \u001b[39;49m\u001b[38;5;124;43m\"\u001b[39;49m\u001b[43m)\u001b[49m\u001b[38;5;241;43m.\u001b[39;49m\u001b[43msplit\u001b[49m()))\n\u001b[1;32m     21\u001b[0m \u001b[38;5;28mprint\u001b[39m(\u001b[38;5;124m\"\u001b[39m\u001b[38;5;124m평균값은 \u001b[39m\u001b[38;5;132;01m{:.1f}\u001b[39;00m\u001b[38;5;124m\"\u001b[39m\u001b[38;5;241m.\u001b[39mformat(mean_of_n(nums)))\n\u001b[1;32m     22\u001b[0m \u001b[38;5;28mprint\u001b[39m(\u001b[38;5;124m\"\u001b[39m\u001b[38;5;124m최댓값은 \u001b[39m\u001b[38;5;132;01m{}\u001b[39;00m\u001b[38;5;124m\"\u001b[39m\u001b[38;5;241m.\u001b[39mformat(max_of_n(nums)))\n",
            "\u001b[0;31mAttributeError\u001b[0m: 'PyodideFuture' object has no attribute 'split'"
          ],
          "output_type": "error"
        }
      ],
      "execution_count": 7
    },
    {
      "id": "84338671-6b9d-4fd8-ae44-217a9cdf08a4",
      "cell_type": "code",
      "source": "#5.13\npi = 3.14\n\ndef a(s):\n    return s**3\n\ndef b(l,w,h):\n    return w*h*l\n\ndef c(r,h):\n    return (1/3)*pi*r**2*h\n\ndef d(r):\n    return (4/3)*pi*r**3\n\ndef e(r,h):\n    return pi * r**2*h\n\nprint(\"정육면체 : {}\".format(a(12)))\nprint(\"정육면체 : {}\".format(a(20)))\nprint(\"직육면체 : {}\".format(b(3,5,6)))\nprint(\"원뿔 : {}\".format(c(20,10)))\nprint(\"구 : {}\".format(d(15)))\nprint(\"원기둥 : {}\".format(e(20,10)))",
      "metadata": {
        "trusted": true
      },
      "outputs": [
        {
          "name": "stdout",
          "output_type": "stream",
          "text": "정육면체 : 1728\n정육면체 : 8000\n직육면체 : 90\n원뿔 : 4186.666666666666\n구 : 14130.0\n원기둥 : 12560.0\n"
        }
      ],
      "execution_count": 5
    },
    {
      "id": "2a6abccb-51cb-41f2-bf4a-cda4dd73538e",
      "cell_type": "code",
      "source": "#5.17\ndef sum_range(n1,n2):\n    return sum(range(n1,n2+1))\n\nsum1 = sum_range(10,20)\nsum2 = sum_range(40,100)\n\nprint(\"10에서 20까지의 정수의 합 : {}\".format(sum1))\nprint(\"40에서 100까지의 정수의 합 : {}\".format(sum2))",
      "metadata": {
        "trusted": true
      },
      "outputs": [
        {
          "name": "stdout",
          "output_type": "stream",
          "text": "10에서 20까지의 정수의 합 : 165\n40에서 100까지의 정수의 합 : 4270\n"
        }
      ],
      "execution_count": 6
    },
    {
      "id": "34e8a02a-881c-4971-a5ae-630d31812783",
      "cell_type": "code",
      "source": "#5.21\na = input(\"주민등록번호 첫 6자리 형식 입력: \")\nyear = int(a[:2])\nmonth = int(a[2:4])\nday = int(a[4:6])\n\nif year >= 50:\n    year += 1900\nelse:\n    year += 2000\n\nprint(\"{}년 {}월 {}일\".format(year,month,day))",
      "metadata": {
        "trusted": true
      },
      "outputs": [
        {
          "ename": "<class 'TypeError'>",
          "evalue": "'PyodideFuture' object is not subscriptable",
          "traceback": [
            "\u001b[0;31m---------------------------------------------------------------------------\u001b[0m",
            "\u001b[0;31mTypeError\u001b[0m                                 Traceback (most recent call last)",
            "Cell \u001b[0;32mIn[8], line 3\u001b[0m\n\u001b[1;32m      1\u001b[0m \u001b[38;5;66;03m#5.21\u001b[39;00m\n\u001b[1;32m      2\u001b[0m a \u001b[38;5;241m=\u001b[39m \u001b[38;5;28minput\u001b[39m(\u001b[38;5;124m\"\u001b[39m\u001b[38;5;124m주민등록번호 첫 6자리 형식 입력: \u001b[39m\u001b[38;5;124m\"\u001b[39m)\n\u001b[0;32m----> 3\u001b[0m year \u001b[38;5;241m=\u001b[39m \u001b[38;5;28mint\u001b[39m(\u001b[43ma\u001b[49m\u001b[43m[\u001b[49m\u001b[43m:\u001b[49m\u001b[38;5;241;43m2\u001b[39;49m\u001b[43m]\u001b[49m)\n\u001b[1;32m      4\u001b[0m month \u001b[38;5;241m=\u001b[39m \u001b[38;5;28mint\u001b[39m(a[\u001b[38;5;241m2\u001b[39m:\u001b[38;5;241m4\u001b[39m])\n\u001b[1;32m      5\u001b[0m day \u001b[38;5;241m=\u001b[39m \u001b[38;5;28mint\u001b[39m(a[\u001b[38;5;241m4\u001b[39m:\u001b[38;5;241m6\u001b[39m])\n",
            "\u001b[0;31mTypeError\u001b[0m: 'PyodideFuture' object is not subscriptable"
          ],
          "output_type": "error"
        }
      ],
      "execution_count": 8
    },
    {
      "id": "6aea5c31-bced-4666-9847-c01692e236bf",
      "cell_type": "code",
      "source": "#5.25\nnames = ['Kang Young Min', 'Kang Young-Min', 'Park Dong Min', 'Park Dong-Min']\nfor name in names:\n    new = name.replace(' ', '').replace('-', '').upper()\n    print('{}(은)는 {}(으)로 수정됨'.format(name,new))\n\nfor name in names:\n    new = name.replace(' ', '').replace('-', '').upper()\n    count = new.count('N')\n    print(\"{} : {}개의 N이 나타남\".format(new,count))",
      "metadata": {
        "trusted": true
      },
      "outputs": [
        {
          "name": "stdout",
          "output_type": "stream",
          "text": "Kang Young Min(은)는 KANGYOUNGMIN(으)로 수정됨\nKang Young-Min(은)는 KANGYOUNGMIN(으)로 수정됨\nPark Dong Min(은)는 PARKDONGMIN(으)로 수정됨\nPark Dong-Min(은)는 PARKDONGMIN(으)로 수정됨\nKANGYOUNGMIN : 3개의 N이 나타남\nKANGYOUNGMIN : 3개의 N이 나타남\nPARKDONGMIN : 2개의 N이 나타남\nPARKDONGMIN : 2개의 N이 나타남\n"
        }
      ],
      "execution_count": 1
    },
    {
      "id": "205c8d74-a129-4e8d-976c-e0e0fee06162",
      "cell_type": "code",
      "source": "#7.1\nprice = {'김밥': 5000, '어묵': 3000, '떡볶이': 2000}\nprice['김밥']\nprice\nprice.values()\nprice.keys()\nprint('이 식당의 메뉴 개수는 {}개 입니다'.format(len(price)))",
      "metadata": {
        "trusted": true
      },
      "outputs": [
        {
          "name": "stdout",
          "output_type": "stream",
          "text": "이 식당의 메뉴 개수는 3개 입니다\n"
        }
      ],
      "execution_count": 8
    },
    {
      "id": "4d25872a-9797-45d6-bff4-6e6c7c3173c6",
      "cell_type": "code",
      "source": "5000\n{'김밥': 5000, '어묵': 3000, '떡볶이': 2000}\ndict_values([5000, 3000, 2000])\ndict_keys(['김밥', '어묵', '떡볶이'])",
      "metadata": {
        "trusted": true
      },
      "outputs": [],
      "execution_count": null
    },
    {
      "id": "8351f1ea-c2b2-4ef1-bd93-00f4d13a5393",
      "cell_type": "code",
      "source": "#7.5\nt=(10,20,30,40)\nt[0]",
      "metadata": {
        "trusted": true,
        "scrolled": true
      },
      "outputs": [
        {
          "execution_count": 18,
          "output_type": "execute_result",
          "data": {
            "text/plain": "10"
          },
          "metadata": {}
        }
      ],
      "execution_count": 18
    },
    {
      "id": "2457c652-579d-46cc-80e0-688b7bfd1b58",
      "cell_type": "code",
      "source": "t=(10,20,30,40)\nt[0:2]",
      "metadata": {
        "trusted": true
      },
      "outputs": [
        {
          "execution_count": 19,
          "output_type": "execute_result",
          "data": {
            "text/plain": "(10, 20)"
          },
          "metadata": {}
        }
      ],
      "execution_count": 19
    },
    {
      "id": "70710692-27be-4c54-8ada-55919c955f59",
      "cell_type": "code",
      "source": "t=(10,20,30,40)\nt[1:]",
      "metadata": {
        "trusted": true
      },
      "outputs": [
        {
          "execution_count": 20,
          "output_type": "execute_result",
          "data": {
            "text/plain": "(20, 30, 40)"
          },
          "metadata": {}
        }
      ],
      "execution_count": 20
    },
    {
      "id": "13e4d4f9-6901-4f6a-a17c-ee77c531204a",
      "cell_type": "code",
      "source": "t=(10,20,30,40)\nt[1::2]",
      "metadata": {
        "trusted": true
      },
      "outputs": [
        {
          "execution_count": 21,
          "output_type": "execute_result",
          "data": {
            "text/plain": "(20, 40)"
          },
          "metadata": {}
        }
      ],
      "execution_count": 21
    },
    {
      "id": "1ccdb172-08b4-477b-bc5e-ddf281d3f259",
      "cell_type": "code",
      "source": "t=(10,20,30,40)\nt[::-1]",
      "metadata": {
        "trusted": true
      },
      "outputs": [
        {
          "execution_count": 22,
          "output_type": "execute_result",
          "data": {
            "text/plain": "(40, 30, 20, 10)"
          },
          "metadata": {}
        }
      ],
      "execution_count": 22
    },
    {
      "id": "eebdf6bc-4994-4a27-b39a-ca21d7d5b678",
      "cell_type": "code",
      "source": "#7.9\ntup = (1,2,5,4,3,2,1,4,7,8,9,9,3,7)\nresult = tuple(set(tup))\nprint(result)",
      "metadata": {
        "trusted": true
      },
      "outputs": [
        {
          "name": "stdout",
          "output_type": "stream",
          "text": "(1, 2, 3, 4, 5, 7, 8, 9)\n"
        }
      ],
      "execution_count": 24
    },
    {
      "id": "022a1031-f197-446b-94f0-f8c6a6dd0df1",
      "cell_type": "code",
      "source": "#7.13\ndef bubble_sort(a):\n    for i in range(len(a)):\n        for j in range(len(a)-1):\n            if a[j]>a[j+1]:\n                a[j], a[j+1] = a[j+1],a[j]\n    return a\n\nlst = [5,6,3,9,2,12,3,8,7]\nprint(\"주어진 리스트는 = {}\".format(lst))\nprint(\"정렬된 결과는 = {}\".format(bubble_sort(lst.copy())))",
      "metadata": {
        "trusted": true
      },
      "outputs": [
        {
          "name": "stdout",
          "output_type": "stream",
          "text": "주어진 리스트는 = [5, 6, 3, 9, 2, 12, 3, 8, 7]\n정렬된 결과는 = [2, 3, 3, 5, 6, 7, 8, 9, 12]\n"
        }
      ],
      "execution_count": 25
    },
    {
      "id": "ad52f8fe-16f9-4778-a98e-23532a9396e6",
      "cell_type": "code",
      "source": "#7.17\npopulation_A = (100,150,230,120,180,100,140,95,81,21,4)\npopulation_B = (300,420,530,420,400,300,40,5,1,1,1)\n\nvote_A = sum(population_A[2:])\nvote_B = sum(population_B[2:])\n\nprint(\"마을 A와 B에 보낼 투표용지의 개수는 각각 {} 장과 {} 장입니다.\".format(vote_A,vote_B))\n\nold_A = sum(population_A[7:])\nold_B = sum(population_B[7:])\n\nall_A = sum(population_A)\nall_B = sum(population_B)\n\nratio_A = old_A / all_A*100\nratio_B = old_B / all_B*100\n\nprint(\"마을 A의 70세 이상 인구 비율을 {:.1f}%입니다.\".format(ratio_A))\nprint(\"마을 B의 70세 이상 인구 비율을 {:.1f}%입니다.\".format(ratio_B))\n\nif ratio_A > ratio_B:\n    print(\"마을 A가 마을 B보다 노령화 정도가 높습니다.\")\nelif ratio_a < ratio_B:\n    print('마을 B가 마을 A보다 노령화 정도가 높습니다.')\nelse:\n    print('두 마을의 노령화 정도가 같습니다.')",
      "metadata": {
        "trusted": true
      },
      "outputs": [
        {
          "name": "stdout",
          "output_type": "stream",
          "text": "마을 A와 B에 보낼 투표용지의 개수는 각각 971 장과 1698 장입니다.\n마을 A의 70세 이상 인구 비율을 16.5%입니다.\n마을 B의 70세 이상 인구 비율을 0.3%입니다.\n마을 A가 마을 B보다 노령화 정도가 높습니다.\n"
        }
      ],
      "execution_count": 28
    },
    {
      "id": "e6633ef7-0f4a-461f-b4e9-f34ea635c5d8",
      "cell_type": "code",
      "source": "#7.21\ndef palindrome(text):\n    clean = [c.lower() for c in text if c.isalpha()]\n    clean_str = ''.join(clean)\n    return clean_str == clean_str[::-1]\n\nuser_input = input('문자열을 입력하시오 : ')\nif palindrome(user_input):\n    print('회문입니다.')\nelse:\n    print('회문이 아닙니다.')",
      "metadata": {
        "trusted": true
      },
      "outputs": [
        {
          "ename": "<class 'AttributeError'>",
          "evalue": "'PyodideFuture' object has no attribute 'isalpha'",
          "traceback": [
            "\u001b[0;31m---------------------------------------------------------------------------\u001b[0m",
            "\u001b[0;31mAttributeError\u001b[0m                            Traceback (most recent call last)",
            "Cell \u001b[0;32mIn[29], line 8\u001b[0m\n\u001b[1;32m      5\u001b[0m     \u001b[38;5;28;01mreturn\u001b[39;00m clean_str \u001b[38;5;241m==\u001b[39m clean_str[::\u001b[38;5;241m-\u001b[39m\u001b[38;5;241m1\u001b[39m]\n\u001b[1;32m      7\u001b[0m user_input \u001b[38;5;241m=\u001b[39m \u001b[38;5;28minput\u001b[39m(\u001b[38;5;124m'\u001b[39m\u001b[38;5;124m문자열을 입력하시오 : \u001b[39m\u001b[38;5;124m'\u001b[39m)\n\u001b[0;32m----> 8\u001b[0m \u001b[38;5;28;01mif\u001b[39;00m \u001b[43mpalindrome\u001b[49m\u001b[43m(\u001b[49m\u001b[43muser_input\u001b[49m\u001b[43m)\u001b[49m:\n\u001b[1;32m      9\u001b[0m     \u001b[38;5;28mprint\u001b[39m(\u001b[38;5;124m'\u001b[39m\u001b[38;5;124m회문입니다.\u001b[39m\u001b[38;5;124m'\u001b[39m)\n\u001b[1;32m     10\u001b[0m \u001b[38;5;28;01melse\u001b[39;00m:\n",
            "Cell \u001b[0;32mIn[29], line 3\u001b[0m, in \u001b[0;36mpalindrome\u001b[0;34m(text)\u001b[0m\n\u001b[1;32m      2\u001b[0m \u001b[38;5;28;01mdef\u001b[39;00m \u001b[38;5;21mpalindrome\u001b[39m(text):\n\u001b[0;32m----> 3\u001b[0m     clean \u001b[38;5;241m=\u001b[39m [c\u001b[38;5;241m.\u001b[39mlower() \u001b[38;5;28;01mfor\u001b[39;00m c \u001b[38;5;129;01min\u001b[39;00m text \u001b[38;5;28;01mif\u001b[39;00m \u001b[43mc\u001b[49m\u001b[38;5;241;43m.\u001b[39;49m\u001b[43misalpha\u001b[49m()]\n\u001b[1;32m      4\u001b[0m     clean_str \u001b[38;5;241m=\u001b[39m \u001b[38;5;124m'\u001b[39m\u001b[38;5;124m'\u001b[39m\u001b[38;5;241m.\u001b[39mjoin(clean)\n\u001b[1;32m      5\u001b[0m     \u001b[38;5;28;01mreturn\u001b[39;00m clean_str \u001b[38;5;241m==\u001b[39m clean_str[::\u001b[38;5;241m-\u001b[39m\u001b[38;5;241m1\u001b[39m]\n",
            "\u001b[0;31mAttributeError\u001b[0m: 'PyodideFuture' object has no attribute 'isalpha'"
          ],
          "output_type": "error"
        }
      ],
      "execution_count": 29
    },
    {
      "id": "b04390b8-11ed-422b-91cd-f1c300cf9ad5",
      "cell_type": "code",
      "source": "#7.25\ndictionary = {\n    \"boy\": \"소년\",\n    \"girl\": \"소녀\",\n    \"man\": \"남자, 사람\",\n    \"woman\": \"여자\",\n    \"house\": \"집\",\n    \"Korea\": \"한국\"\n}\n\nprint(\"사전 프로그램 시작... 종료는 q를 입력\")\n\nwhile True:\n    command = input(\"$ \").strip()  # 사용자 입력 받기\n    if command == \"q\":\n        print(\"사전 프로그램을 종료합니다.\")\n        break\n    elif command.startswith(\"<\"):\n        try:\n            _, pair = command.split(\"<\", 1)\n            eng, kor = pair.split(\":\")\n            dictionary[eng.strip()] = kor.strip()\n            print(f\"{eng.strip()}:{kor.strip()}가 사전에 추가되었습니다.\")\n        except ValueError:\n            print(\"입력 오류가 발생했습니다.\")\n    elif command.startswith(\">\"):\n        word = command[1:].strip()\n        if word in dictionary:\n            print(dictionary[word])\n        else:\n            print(f\"{word}가 사전에 없습니다.\")\n    else:\n        print(\"입력 오류가 발생했습니다.\")",
      "metadata": {
        "trusted": true
      },
      "outputs": [
        {
          "name": "stdout",
          "output_type": "stream",
          "text": "사전 프로그램 시작... 종료는 q를 입력\n"
        },
        {
          "ename": "<class 'AttributeError'>",
          "evalue": "'PyodideFuture' object has no attribute 'strip'",
          "traceback": [
            "\u001b[0;31m---------------------------------------------------------------------------\u001b[0m",
            "\u001b[0;31mAttributeError\u001b[0m                            Traceback (most recent call last)",
            "Cell \u001b[0;32mIn[2], line 14\u001b[0m\n\u001b[1;32m     11\u001b[0m \u001b[38;5;28mprint\u001b[39m(\u001b[38;5;124m\"\u001b[39m\u001b[38;5;124m사전 프로그램 시작... 종료는 q를 입력\u001b[39m\u001b[38;5;124m\"\u001b[39m)\n\u001b[1;32m     13\u001b[0m \u001b[38;5;28;01mwhile\u001b[39;00m \u001b[38;5;28;01mTrue\u001b[39;00m:\n\u001b[0;32m---> 14\u001b[0m     command \u001b[38;5;241m=\u001b[39m \u001b[38;5;28;43minput\u001b[39;49m\u001b[43m(\u001b[49m\u001b[38;5;124;43m\"\u001b[39;49m\u001b[38;5;124;43m$ \u001b[39;49m\u001b[38;5;124;43m\"\u001b[39;49m\u001b[43m)\u001b[49m\u001b[38;5;241;43m.\u001b[39;49m\u001b[43mstrip\u001b[49m()  \u001b[38;5;66;03m# 사용자 입력 받기\u001b[39;00m\n\u001b[1;32m     15\u001b[0m     \u001b[38;5;28;01mif\u001b[39;00m command \u001b[38;5;241m==\u001b[39m \u001b[38;5;124m\"\u001b[39m\u001b[38;5;124mq\u001b[39m\u001b[38;5;124m\"\u001b[39m:\n\u001b[1;32m     16\u001b[0m         \u001b[38;5;28mprint\u001b[39m(\u001b[38;5;124m\"\u001b[39m\u001b[38;5;124m사전 프로그램을 종료합니다.\u001b[39m\u001b[38;5;124m\"\u001b[39m)\n",
            "\u001b[0;31mAttributeError\u001b[0m: 'PyodideFuture' object has no attribute 'strip'"
          ],
          "output_type": "error"
        }
      ],
      "execution_count": 2
    },
    {
      "id": "a82f1a4c-7e62-42e0-870b-2d24c564b194",
      "cell_type": "code",
      "source": "#8.1\nfrom datetime import date, timedelta\nstart = date(2019,2,14)\ntoday = date.today()\nnow = (today-start).days\n\nprint('춘향이와 몽룡이의 연애 시작일 : {}년 {}월 {}일'.format(start.year,start.month,start.day))\nprint('연애 시작일로부터 경과한 날짜 : {}일'.format(now))\n\nanni = {\n    100 : start + timedelta(days=100),\n    200 : start + timedelta(days=200),\n    500 : start + timedelta(days=500),\n    1000 : start + timedelta(days=1000)\n}\n\nprint('춘향이와 몽룡이의 연애 시작일 ')\n    ",
      "metadata": {
        "trusted": true
      },
      "outputs": [],
      "execution_count": null
    },
    {
      "id": "45d25436-03d7-4006-aa92-b257cc1278cb",
      "cell_type": "code",
      "source": "#8.5\nimport math\n\nfor degree in range(0,181,10):\n    rad = math.radians(degree)\n    sin = math.sin(rad)\n    cos = math.cos(rad)\n    tan = math.tan(rad)\n\n    print('sin({:3}) = {:6.3f},cos({:3}) = {:6.3f}, tan({:3}) = {:6.3f}'.format(degree, sin, degree, cos, degree, tan))",
      "metadata": {
        "trusted": true
      },
      "outputs": [
        {
          "name": "stdout",
          "output_type": "stream",
          "text": "sin(  0) =  0.000,cos(  0) =  1.000, tan(  0) =  0.000\nsin( 10) =  0.174,cos( 10) =  0.985, tan( 10) =  0.176\nsin( 20) =  0.342,cos( 20) =  0.940, tan( 20) =  0.364\nsin( 30) =  0.500,cos( 30) =  0.866, tan( 30) =  0.577\nsin( 40) =  0.643,cos( 40) =  0.766, tan( 40) =  0.839\nsin( 50) =  0.766,cos( 50) =  0.643, tan( 50) =  1.192\nsin( 60) =  0.866,cos( 60) =  0.500, tan( 60) =  1.732\nsin( 70) =  0.940,cos( 70) =  0.342, tan( 70) =  2.747\nsin( 80) =  0.985,cos( 80) =  0.174, tan( 80) =  5.671\nsin( 90) =  1.000,cos( 90) =  0.000, tan( 90) = 16331239353195370.000\nsin(100) =  0.985,cos(100) = -0.174, tan(100) = -5.671\nsin(110) =  0.940,cos(110) = -0.342, tan(110) = -2.747\nsin(120) =  0.866,cos(120) = -0.500, tan(120) = -1.732\nsin(130) =  0.766,cos(130) = -0.643, tan(130) = -1.192\nsin(140) =  0.643,cos(140) = -0.766, tan(140) = -0.839\nsin(150) =  0.500,cos(150) = -0.866, tan(150) = -0.577\nsin(160) =  0.342,cos(160) = -0.940, tan(160) = -0.364\nsin(170) =  0.174,cos(170) = -0.985, tan(170) = -0.176\nsin(180) =  0.000,cos(180) = -1.000, tan(180) = -0.000\n"
        }
      ],
      "execution_count": 1
    },
    {
      "id": "6280bd91-c67f-4662-8a81-d50aa1dd95c8",
      "cell_type": "code",
      "source": "#8.9\nimport random\n\nx = random.randint(1,20)\nn = 0\n\nwhile True:\n    n += 1\n    guess = int(input(\"1~20까지의 숫자를 입력하세요:\"))\n\n    if guess < x:\n        print(guess, '보다 큽니다!')\n    elif guess > x:\n        print(guess, '보다 작습니다!')\n    else:\n        print('정답입니다!')\n        if n <= 3:\n            print('{}번만에 맞추다니 당신은 천재!'.format(n))\n        elif n <= 6:\n            print('{}번만에 맞추셨네요, 잘했어요^^'.format(n))\n        else:\n            print('{}번에 맞추다니 쩝...'.format(n))\n        break",
      "metadata": {
        "trusted": true
      },
      "outputs": [
        {
          "ename": "<class 'TypeError'>",
          "evalue": "int() argument must be a string, a bytes-like object or a real number, not 'PyodideFuture'",
          "traceback": [
            "\u001b[0;31m---------------------------------------------------------------------------\u001b[0m",
            "\u001b[0;31mTypeError\u001b[0m                                 Traceback (most recent call last)",
            "Cell \u001b[0;32mIn[3], line 9\u001b[0m\n\u001b[1;32m      7\u001b[0m \u001b[38;5;28;01mwhile\u001b[39;00m \u001b[38;5;28;01mTrue\u001b[39;00m:\n\u001b[1;32m      8\u001b[0m     n \u001b[38;5;241m+\u001b[39m\u001b[38;5;241m=\u001b[39m \u001b[38;5;241m1\u001b[39m\n\u001b[0;32m----> 9\u001b[0m     guess \u001b[38;5;241m=\u001b[39m \u001b[38;5;28;43mint\u001b[39;49m\u001b[43m(\u001b[49m\u001b[38;5;28;43minput\u001b[39;49m\u001b[43m(\u001b[49m\u001b[38;5;124;43m\"\u001b[39;49m\u001b[38;5;124;43m1~20까지의 숫자를 입력하세요:\u001b[39;49m\u001b[38;5;124;43m\"\u001b[39;49m\u001b[43m)\u001b[49m\u001b[43m)\u001b[49m\n\u001b[1;32m     11\u001b[0m     \u001b[38;5;28;01mif\u001b[39;00m guess \u001b[38;5;241m<\u001b[39m x:\n\u001b[1;32m     12\u001b[0m         \u001b[38;5;28mprint\u001b[39m(guess, \u001b[38;5;124m'\u001b[39m\u001b[38;5;124m보다 큽니다!\u001b[39m\u001b[38;5;124m'\u001b[39m)\n",
            "\u001b[0;31mTypeError\u001b[0m: int() argument must be a string, a bytes-like object or a real number, not 'PyodideFuture'"
          ],
          "output_type": "error"
        }
      ],
      "execution_count": 3
    },
    {
      "id": "de57ec0f-51c2-456e-97e8-0a60464c28c1",
      "cell_type": "code",
      "source": "#9.1\n(1)\n2개 미만이나 초과의 수를 입력한 경우 ValueError\n숫자가 아닌 문자열을 입력한 경우 valueError\n(3)\n0,1,2 가 아닌 다른 수를 입력한 경우 IndexError\n숫자가 아닌 다른 값 을 입력한 경우 ValueError\n(4)\n입력한 파일이 없을 경우 FileFoundError",
      "metadata": {
        "trusted": true
      },
      "outputs": [],
      "execution_count": null
    },
    {
      "id": "739a6fc5-ec9f-48c5-a314-3b79d815bf6a",
      "cell_type": "code",
      "source": "#9.5\nfile = open('number1to10.txt', 'w')\n\nfor i in range(1,11):\n    file.write(str(i) + '\\n')\n\nfile.close()",
      "metadata": {
        "trusted": true
      },
      "outputs": [],
      "execution_count": 2
    },
    {
      "id": "ef7acb0c-7282-4713-9d6f-56b79774482b",
      "cell_type": "code",
      "source": "#9.9\nf = open(\"coord.txt\", \"r\")\nn = int(f.readline())\n\ncoords = []\nfor _ in range(n):\n    x, y = map(int, f.readline().split())\n    coords.append((x, y))\n\nf.close()\ncoords.sort()\n\nfor x, y in coords:\n    print(\"{0} {1}\".format(x, y))",
      "metadata": {
        "trusted": true
      },
      "outputs": [
        {
          "ename": "<class 'FileNotFoundError'>",
          "evalue": "[Errno 44] No such file or directory: 'coord.txt'",
          "traceback": [
            "\u001b[0;31m---------------------------------------------------------------------------\u001b[0m",
            "\u001b[0;31mFileNotFoundError\u001b[0m                         Traceback (most recent call last)",
            "Cell \u001b[0;32mIn[1], line 2\u001b[0m\n\u001b[1;32m      1\u001b[0m \u001b[38;5;66;03m#9.9\u001b[39;00m\n\u001b[0;32m----> 2\u001b[0m f \u001b[38;5;241m=\u001b[39m \u001b[38;5;28;43mopen\u001b[39;49m\u001b[43m(\u001b[49m\u001b[38;5;124;43m\"\u001b[39;49m\u001b[38;5;124;43mcoord.txt\u001b[39;49m\u001b[38;5;124;43m\"\u001b[39;49m\u001b[43m,\u001b[49m\u001b[43m \u001b[49m\u001b[38;5;124;43m\"\u001b[39;49m\u001b[38;5;124;43mr\u001b[39;49m\u001b[38;5;124;43m\"\u001b[39;49m\u001b[43m)\u001b[49m\n\u001b[1;32m      3\u001b[0m n \u001b[38;5;241m=\u001b[39m \u001b[38;5;28mint\u001b[39m(f\u001b[38;5;241m.\u001b[39mreadline())\n\u001b[1;32m      5\u001b[0m coords \u001b[38;5;241m=\u001b[39m []\n",
            "File \u001b[0;32m/lib/python3.12/site-packages/IPython/core/interactiveshell.py:324\u001b[0m, in \u001b[0;36m_modified_open\u001b[0;34m(file, *args, **kwargs)\u001b[0m\n\u001b[1;32m    317\u001b[0m \u001b[38;5;28;01mif\u001b[39;00m file \u001b[38;5;129;01min\u001b[39;00m {\u001b[38;5;241m0\u001b[39m, \u001b[38;5;241m1\u001b[39m, \u001b[38;5;241m2\u001b[39m}:\n\u001b[1;32m    318\u001b[0m     \u001b[38;5;28;01mraise\u001b[39;00m \u001b[38;5;167;01mValueError\u001b[39;00m(\n\u001b[1;32m    319\u001b[0m         \u001b[38;5;124mf\u001b[39m\u001b[38;5;124m\"\u001b[39m\u001b[38;5;124mIPython won\u001b[39m\u001b[38;5;124m'\u001b[39m\u001b[38;5;124mt let you open fd=\u001b[39m\u001b[38;5;132;01m{\u001b[39;00mfile\u001b[38;5;132;01m}\u001b[39;00m\u001b[38;5;124m by default \u001b[39m\u001b[38;5;124m\"\u001b[39m\n\u001b[1;32m    320\u001b[0m         \u001b[38;5;124m\"\u001b[39m\u001b[38;5;124mas it is likely to crash IPython. If you know what you are doing, \u001b[39m\u001b[38;5;124m\"\u001b[39m\n\u001b[1;32m    321\u001b[0m         \u001b[38;5;124m\"\u001b[39m\u001b[38;5;124myou can use builtins\u001b[39m\u001b[38;5;124m'\u001b[39m\u001b[38;5;124m open.\u001b[39m\u001b[38;5;124m\"\u001b[39m\n\u001b[1;32m    322\u001b[0m     )\n\u001b[0;32m--> 324\u001b[0m \u001b[38;5;28;01mreturn\u001b[39;00m \u001b[43mio_open\u001b[49m\u001b[43m(\u001b[49m\u001b[43mfile\u001b[49m\u001b[43m,\u001b[49m\u001b[43m \u001b[49m\u001b[38;5;241;43m*\u001b[39;49m\u001b[43margs\u001b[49m\u001b[43m,\u001b[49m\u001b[43m \u001b[49m\u001b[38;5;241;43m*\u001b[39;49m\u001b[38;5;241;43m*\u001b[39;49m\u001b[43mkwargs\u001b[49m\u001b[43m)\u001b[49m\n",
            "\u001b[0;31mFileNotFoundError\u001b[0m: [Errno 44] No such file or directory: 'coord.txt'"
          ],
          "output_type": "error"
        }
      ],
      "execution_count": 1
    },
    {
      "id": "ace14457-a5fe-4f40-9724-5be47a9eba62",
      "cell_type": "code",
      "source": "",
      "metadata": {
        "trusted": true
      },
      "outputs": [],
      "execution_count": null
    }
  ]
}